{
 "cells": [
  {
   "cell_type": "markdown",
   "metadata": {},
   "source": [
    "## Stats Assignment 2"
   ]
  },
  {
   "cell_type": "markdown",
   "metadata": {},
   "source": [
    "## 1 A test is conducted which is consisting of 20 MCQs (multiple choices questions) with every MCQ having its four options out of which only one is correct. Determine the probability that a person undertaking that test has answered exactly 5 questions wrong."
   ]
  },
  {
   "cell_type": "code",
   "execution_count": 3,
   "metadata": {},
   "outputs": [],
   "source": [
    "# this is binomial distribution\n",
    "# P (‘k’ successes in ‘n’ trials) = C(n,k)(p**k)((1−p)**(n−k))\n",
    "\n",
    "#Given:\n",
    "#    Success event : Wrong answer\n",
    "#    n:20\n",
    "#    k=5\n",
    "#    p = probability of wrong answer is 3/4 =0.75\n",
    "#    q = probability of wight answer is 1-p is 1/4 = 0.25"
   ]
  },
  {
   "cell_type": "code",
   "execution_count": 40,
   "metadata": {},
   "outputs": [],
   "source": [
    "fact_dp =[1,1]\n",
    "def fact(n):\n",
    "    if((len(fact_dp))>=n+1):\n",
    "        return fact_dp[n]\n",
    "    else:\n",
    "        fact_dp.append(n* fact(n-1))\n",
    "        return fact_dp[n]"
   ]
  },
  {
   "cell_type": "code",
   "execution_count": 49,
   "metadata": {},
   "outputs": [
    {
     "name": "stdout",
     "output_type": "stream",
     "text": [
      "probability is 3.4264958230778575e-06\n"
     ]
    }
   ],
   "source": [
    "#Using formula : C(20,5)(0.75**5)(0.25**15)\n",
    "com_val = fact(20)/ (fact(5)* fact(15))\n",
    "prob = com_val*(0.75**5)*(0.25**15)\n",
    "print(\"probability is {}\".format(prob))"
   ]
  },
  {
   "cell_type": "markdown",
   "metadata": {},
   "source": [
    "## 2 A die marked A to E is rolled 50 times. Find the probability of getting a “D” exactly 5 times.\n"
   ]
  },
  {
   "cell_type": "code",
   "execution_count": null,
   "metadata": {},
   "outputs": [],
   "source": [
    "\"\"\"\n",
    "outcomes[A,B,C,D,E]\n",
    "p = 1/5 =0.2\n",
    "q=4/5 = 0.8\n",
    "k =5\n",
    "n = 50\n",
    "\"\"\""
   ]
  },
  {
   "cell_type": "code",
   "execution_count": 53,
   "metadata": {},
   "outputs": [
    {
     "name": "stdout",
     "output_type": "stream",
     "text": [
      "probability is 0.029531204310524296\n"
     ]
    }
   ],
   "source": [
    "com_val = fact(50)/ (fact(45)* fact(5))\n",
    "prob = com_val*(0.2**5)*(0.8**45)\n",
    "print(\"probability is {}\".format(prob))"
   ]
  },
  {
   "cell_type": "markdown",
   "metadata": {},
   "source": [
    "## 3 Two balls are drawn at random in succession without replacement from an urn containing 4 red balls and 6 black balls. Find the probabilities of all the possible outcomes."
   ]
  },
  {
   "cell_type": "markdown",
   "metadata": {},
   "source": [
    "## Solution\n",
    "\n",
    "## First determine the probabilities of the events.\n",
    "\n",
    "  events           Probability\n",
    "    RR          (4/10)(3/9) = 2/15\n",
    "    RB          (4/10)(6/9) = 4/15\n",
    "    BR          (6/10)(4/9) = 4/15 \n",
    "    BB          (6/10)(5/9) = 1/3\n",
    "\n",
    "The probability of 0 black balls (RR)is 2/15\n",
    "The probability of 1 black ball is (RB or BR) is 4/15+4/15 = 8/15\n",
    "The probability of 2 red balls (BB) is 1/3\n",
    "\n",
    "### So the probability distribution is:\n",
    "\n",
    "\n",
    "Z(black)    P(Z)\n",
    "\n",
    "0 -------->   2/15\n",
    "\n",
    "1 --------->  8/15\n",
    "\n",
    "2  -------->  1/3\n",
    "\n",
    "Notice that the sum of the probabilities = 2/15+8/15+1/3 = 1"
   ]
  },
  {
   "cell_type": "code",
   "execution_count": null,
   "metadata": {},
   "outputs": [],
   "source": []
  }
 ],
 "metadata": {
  "kernelspec": {
   "display_name": "Python 3",
   "language": "python",
   "name": "python3"
  },
  "language_info": {
   "codemirror_mode": {
    "name": "ipython",
    "version": 3
   },
   "file_extension": ".py",
   "mimetype": "text/x-python",
   "name": "python",
   "nbconvert_exporter": "python",
   "pygments_lexer": "ipython3",
   "version": "3.7.1"
  }
 },
 "nbformat": 4,
 "nbformat_minor": 2
}
