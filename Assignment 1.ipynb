{
 "cells": [
  {
   "cell_type": "markdown",
   "metadata": {},
   "source": [
    "## Stats Assignment 1"
   ]
  },
  {
   "cell_type": "code",
   "execution_count": 2,
   "metadata": {},
   "outputs": [],
   "source": [
    "import numpy as np"
   ]
  },
  {
   "cell_type": "markdown",
   "metadata": {},
   "source": [
    "## 1. \n",
    "You survey households in your area to find the average rent they are paying. Find\n",
    "the standard deviation from the following data:\n",
    "$1550, $1700, $900, $850, $1000, $950."
   ]
  },
  {
   "cell_type": "code",
   "execution_count": 3,
   "metadata": {},
   "outputs": [
    {
     "name": "stdout",
     "output_type": "stream",
     "text": [
      "average rent is 1150.0\n"
     ]
    }
   ],
   "source": [
    "data = [1500,1700,900,850,1000,950]\n",
    "avg = np.mean(data)\n",
    "print(\"average rent is {}\".format(avg))"
   ]
  },
  {
   "cell_type": "markdown",
   "metadata": {},
   "source": [
    "## 2\n",
    "Find the variance for the following set of data representing trees in California\n",
    "(heights in feet):\n",
    "3, 21, 98, 203, 17, 9"
   ]
  },
  {
   "cell_type": "code",
   "execution_count": 5,
   "metadata": {},
   "outputs": [
    {
     "name": "stdout",
     "output_type": "stream",
     "text": [
      "variance of height is 5183.25\n"
     ]
    }
   ],
   "source": [
    "data =[3, 21, 98, 203, 17, 9]\n",
    "variance = np.var(data)\n",
    "print(\"variance of height is {}\".format(variance))"
   ]
  },
  {
   "cell_type": "markdown",
   "metadata": {},
   "source": [
    "## 3\n",
    "In a class on 100 students, 80 students passed in all subjects, 10 failed in one\n",
    "subject, 7 failed in two subjects and 3 failed in three subjects. Find the\n",
    "probability distribution of the variable for number of subjects a student from\n",
    "the given class has failed in."
   ]
  },
  {
   "cell_type": "code",
   "execution_count": 11,
   "metadata": {},
   "outputs": [
    {
     "name": "stdout",
     "output_type": "stream",
     "text": [
      "probability of failing in 0 subjects, P(X=0) =  0.8\n",
      "probability of failing in 1 subjects, P(X=0) =  0.1\n",
      "probability of failing in 2 subjects, P(X=0) =  0.07\n",
      "probability of failing in 3 subjects, P(X=0) =  0.03\n"
     ]
    }
   ],
   "source": [
    "\n",
    "print(\"probability of failing in 0 subjects, P(X=0) = \",((80/100)))\n",
    "print(\"probability of failing in 1 subjects, P(X=0) = \",((10/100)))\n",
    "print(\"probability of failing in 2 subjects, P(X=0) = \",((7/100)))\n",
    "print(\"probability of failing in 3 subjects, P(X=0) = \",((3/100)))"
   ]
  },
  {
   "cell_type": "code",
   "execution_count": null,
   "metadata": {},
   "outputs": [],
   "source": []
  }
 ],
 "metadata": {
  "kernelspec": {
   "display_name": "Python 3",
   "language": "python",
   "name": "python3"
  },
  "language_info": {
   "codemirror_mode": {
    "name": "ipython",
    "version": 3
   },
   "file_extension": ".py",
   "mimetype": "text/x-python",
   "name": "python",
   "nbconvert_exporter": "python",
   "pygments_lexer": "ipython3",
   "version": "3.7.1"
  }
 },
 "nbformat": 4,
 "nbformat_minor": 2
}
